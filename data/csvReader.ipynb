{
 "cells": [
  {
   "cell_type": "code",
   "execution_count": 25,
   "metadata": {},
   "outputs": [],
   "source": [
    "import xlrd, xlwt\n",
    "from xlwt import Workbook"
   ]
  },
  {
   "cell_type": "code",
   "execution_count": 26,
   "metadata": {},
   "outputs": [],
   "source": [
    "excelPath = (\"FullDatabase04082020.xlsx\")"
   ]
  },
  {
   "cell_type": "code",
   "execution_count": 27,
   "metadata": {},
   "outputs": [],
   "source": [
    "workbook = xlrd.open_workbook(excelPath) # read workbook\n",
    "sheet = workbook.sheet_by_index(0)"
   ]
  },
  {
   "cell_type": "code",
   "execution_count": 28,
   "metadata": {},
   "outputs": [],
   "source": [
    "firstRow = []\n",
    "for i in range(sheet.ncols):\n",
    "    firstRow.append(sheet.cell_value(0, i))"
   ]
  },
  {
   "cell_type": "code",
   "execution_count": 29,
   "metadata": {},
   "outputs": [],
   "source": [
    "Title, Authors, Journal, DOI = [], [], [], []\n",
    "for i in range(0, sheet.nrows):\n",
    "    Title.append(sheet.cell_value(i, 0))\n",
    "    Authors.append(sheet.cell_value(i, 1))\n",
    "    Journal.append(sheet.cell_value(i, 5))\n",
    "    DOI.append(sheet.cell_value(i, 10))"
   ]
  },
  {
   "cell_type": "code",
   "execution_count": 30,
   "metadata": {},
   "outputs": [],
   "source": [
    "wb = Workbook() # write workbook \n",
    "filteredSheet = wb.add_sheet(\"Filtered Sheet\")"
   ]
  },
  {
   "cell_type": "code",
   "execution_count": 31,
   "metadata": {},
   "outputs": [],
   "source": [
    "# write filtered data\n",
    "for i in range(len(Authors)):\n",
    "    filteredSheet.write(i, 0, Title[i])\n",
    "    filteredSheet.write(i, 1, Authors[i])\n",
    "    filteredSheet.write(i, 2, Journal[i])\n",
    "    filteredSheet.write(i, 3, DOI[i])"
   ]
  },
  {
   "cell_type": "code",
   "execution_count": 32,
   "metadata": {},
   "outputs": [],
   "source": [
    "wb.save(\"FilteredDatabase.xls\")"
   ]
  }
 ],
 "metadata": {
  "kernelspec": {
   "display_name": "Python 3",
   "language": "python",
   "name": "python3"
  },
  "language_info": {
   "codemirror_mode": {
    "name": "ipython",
    "version": 3
   },
   "file_extension": ".py",
   "mimetype": "text/x-python",
   "name": "python",
   "nbconvert_exporter": "python",
   "pygments_lexer": "ipython3",
   "version": "3.7.4"
  }
 },
 "nbformat": 4,
 "nbformat_minor": 2
}
