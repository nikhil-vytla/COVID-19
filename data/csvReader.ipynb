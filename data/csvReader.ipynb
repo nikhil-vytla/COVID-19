{
 "cells": [
  {
   "cell_type": "code",
   "execution_count": 70,
   "metadata": {},
   "outputs": [],
   "source": [
    "import xlrd, xlwt\n",
    "from xlwt import Workbook"
   ]
  },
  {
   "cell_type": "code",
   "execution_count": 71,
   "metadata": {},
   "outputs": [],
   "source": [
    "excelPath = (\"FullDatabase04082020.xlsx\")"
   ]
  },
  {
   "cell_type": "code",
   "execution_count": 72,
   "metadata": {},
   "outputs": [],
   "source": [
    "workbook = xlrd.open_workbook(excelPath) # read workbook\n",
    "sheet = workbook.sheet_by_index(0)"
   ]
  },
  {
   "cell_type": "code",
   "execution_count": 73,
   "metadata": {},
   "outputs": [],
   "source": [
    "firstRow = []\n",
    "for i in range(sheet.ncols):\n",
    "    firstRow.append(sheet.cell_value(0, i))"
   ]
  },
  {
   "cell_type": "code",
   "execution_count": 135,
   "metadata": {},
   "outputs": [],
   "source": [
    "Title, Authors, Journal, DOI = [], [], [], []\n",
    "excelRow = 0;\n",
    "for i in range(0, sheet.nrows):\n",
    "    if sheet.cell_type(i, 10) != xlrd.XL_CELL_EMPTY:\n",
    "        # filter DOI to be usable\n",
    "        DOIValue = sheet.cell_value(i, 10)\n",
    "        DOIOnly = DOIValue.replace(\"https://doi.org/\", \"\")\n",
    "        DOIOnly = DOIOnly.replace(\"http://dx.doi.org/\", \"\")\n",
    "        DOIOnly = DOIOnly.replace(\"doi:\", \"\")\n",
    "        DOIOnly = DOIOnly.split(' ', 1)[0]\n",
    "        if DOIOnly.startswith(\"DOI\") or DOIOnly.startswith(\"10\"):\n",
    "            DOI.append(DOIOnly)\n",
    "            Title.append(sheet.cell_value(i, 0))\n",
    "            Authors.append(sheet.cell_value(i, 1))\n",
    "            Journal.append(sheet.cell_value(i, 5))    "
   ]
  },
  {
   "cell_type": "code",
   "execution_count": 136,
   "metadata": {},
   "outputs": [],
   "source": [
    "wb = Workbook() # write workbook \n",
    "filteredSheet = wb.add_sheet(\"Filtered Sheet\")"
   ]
  },
  {
   "cell_type": "code",
   "execution_count": 137,
   "metadata": {},
   "outputs": [],
   "source": [
    "# write filtered data\n",
    "for i in range(len(Authors)):\n",
    "    filteredSheet.write(i, 0, Title[i])\n",
    "    filteredSheet.write(i, 1, Authors[i])\n",
    "    filteredSheet.write(i, 2, Journal[i])\n",
    "    filteredSheet.write(i, 3, DOI[i])"
   ]
  },
  {
   "cell_type": "code",
   "execution_count": 138,
   "metadata": {},
   "outputs": [],
   "source": [
    "wb.save(\"FilteredDatabase.xls\")"
   ]
  },
  {
   "cell_type": "code",
   "execution_count": 9,
   "metadata": {},
   "outputs": [],
   "source": [
    "# Identify Author's affiliation - Work from original\n",
    "# https://api.crossref.org/v1/works/"
   ]
  },
  {
   "cell_type": "code",
   "execution_count": null,
   "metadata": {},
   "outputs": [],
   "source": []
  }
 ],
 "metadata": {
  "kernelspec": {
   "display_name": "Python 3",
   "language": "python",
   "name": "python3"
  },
  "language_info": {
   "codemirror_mode": {
    "name": "ipython",
    "version": 3
   },
   "file_extension": ".py",
   "mimetype": "text/x-python",
   "name": "python",
   "nbconvert_exporter": "python",
   "pygments_lexer": "ipython3",
   "version": "3.7.4"
  }
 },
 "nbformat": 4,
 "nbformat_minor": 2
}
