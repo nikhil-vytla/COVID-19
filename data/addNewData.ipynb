{
 "cells": [
  {
   "cell_type": "code",
   "execution_count": 1,
   "metadata": {},
   "outputs": [],
   "source": [
    "import xlrd\n",
    "import time, requests\n",
    "from xlwt import Workbook\n",
    "from random import randint\n",
    "from time import sleep"
   ]
  },
  {
   "cell_type": "code",
   "execution_count": 2,
   "metadata": {},
   "outputs": [],
   "source": [
    "fdWB = xlrd.open_workbook(\"FilteredDatabase.xls\") # read workbook\n",
    "fdSheet = fdWB.sheet_by_index(0)\n",
    "newWB = xlrd.open_workbook(\"april16new.xlsx\")\n",
    "newSheet = newWB.sheet_by_index(0)"
   ]
  },
  {
   "cell_type": "code",
   "execution_count": 3,
   "metadata": {},
   "outputs": [],
   "source": [
    "wb = Workbook() # write workbook \n",
    "filteredSheetForWriting = wb.add_sheet(\"Filtered Sheet\")"
   ]
  },
  {
   "cell_type": "code",
   "execution_count": 4,
   "metadata": {},
   "outputs": [],
   "source": [
    "# Old Database Data retrieval (FDB = Filtered Database)\n",
    "Title_FDB, Authors_FDB, Journal_FDB, DOI_FDB, Affiliations_FDB = [], [], [], [], []\n",
    "for i in range(0, fdSheet.nrows):\n",
    "    if fdSheet.cell_type(i, 0) != xlrd.XL_CELL_EMPTY:\n",
    "        Title_FDB.append(fdSheet.cell_value(i, 0))\n",
    "        Authors_FDB.append(fdSheet.cell_value(i, 1))\n",
    "        Journal_FDB.append(fdSheet.cell_value(i, 2))\n",
    "        DOI_FDB.append(fdSheet.cell_value(i, 3))\n",
    "        Affiliations_FDB.append(fdSheet.cell_value(i, 5))"
   ]
  },
  {
   "cell_type": "code",
   "execution_count": 5,
   "metadata": {},
   "outputs": [],
   "source": [
    "# Write Old Filtered Data\n",
    "for i in range(len(DOI_FDB)):\n",
    "    filteredSheetForWriting.write(i, 0, Title_FDB[i])\n",
    "    filteredSheetForWriting.write(i, 1, Authors_FDB[i])\n",
    "    filteredSheetForWriting.write(i, 2, Journal_FDB[i])\n",
    "    filteredSheetForWriting.write(i, 3, DOI_FDB[i])\n",
    "    filteredSheetForWriting.write(i, 5, Affiliations_FDB[i])"
   ]
  },
  {
   "cell_type": "code",
   "execution_count": 6,
   "metadata": {},
   "outputs": [],
   "source": [
    "# Filter DOI to be usable\n",
    "Title, Authors, Journal, DOI = [], [], [], []\n",
    "for i in range(1, newSheet.nrows):\n",
    "    if newSheet.cell_type(i, 10) != xlrd.XL_CELL_EMPTY:\n",
    "        DOIValue = newSheet.cell_value(i, 10) # index 10 is DOI\n",
    "        # filter DOI to be usable\n",
    "        DOIOnly = DOIValue.replace(\"https://doi.org/\", \"\")\n",
    "        DOIOnly = DOIOnly.replace(\"http://dx.doi.org/\", \"\")\n",
    "        DOIOnly = DOIOnly.replace(\"doi:\", \"\")\n",
    "        DOIOnly = DOIOnly.split(' ', 1)[0]\n",
    "        if DOIOnly.startswith(\"DOI\") or DOIOnly.startswith(\"10\"):\n",
    "            DOI.append(DOIOnly)\n",
    "            Title.append(newSheet.cell_value(i, 0))\n",
    "            Authors.append(newSheet.cell_value(i, 1))\n",
    "            Journal.append(newSheet.cell_value(i, 5))   "
   ]
  },
  {
   "cell_type": "code",
   "execution_count": 7,
   "metadata": {},
   "outputs": [],
   "source": [
    "# Write Filtered Data\n",
    "for i in range(len(DOI)):\n",
    "    filteredSheetForWriting.write(i+len(DOI_FDB), 0, Title[i])\n",
    "    filteredSheetForWriting.write(i+len(DOI_FDB), 1, Authors[i])\n",
    "    filteredSheetForWriting.write(i+len(DOI_FDB), 2, Journal[i])\n",
    "    filteredSheetForWriting.write(i+len(DOI_FDB), 3, DOI[i])"
   ]
  },
  {
   "cell_type": "code",
   "execution_count": 8,
   "metadata": {},
   "outputs": [],
   "source": [
    "# Begin retrieving data\n",
    "URLS = []\n",
    "baseURL = \"https://api.crossref.org/v1/works/\"\n",
    "for i in range(len(DOI)):\n",
    "    URLS.append(baseURL + DOI[i])"
   ]
  },
  {
   "cell_type": "code",
   "execution_count": 9,
   "metadata": {},
   "outputs": [],
   "source": [
    "# Retrieve JSON Info\n",
    "pageInfo =[]\n",
    "for i in range(len(URLS)):\n",
    "    sleep(randint(0,5))\n",
    "    page = requests.get(URLS[i])\n",
    "    if page.status_code == 200:\n",
    "        pageJson = page.json()\n",
    "        pageInfo.append(pageJson)\n",
    "    else:\n",
    "        pageInfo.append(\"Response not 200\")"
   ]
  },
  {
   "cell_type": "code",
   "execution_count": 10,
   "metadata": {},
   "outputs": [],
   "source": [
    "for i in range(len(pageInfo)):\n",
    "    if pageInfo[i] == \"Response not 200\":\n",
    "        filteredSheetForWriting.write(i+len(DOI_FDB), 5, \"Response not 200\")\n",
    "    elif \"author\" in pageInfo[i].get(\"message\"):\n",
    "        if str(pageInfo[i].get(\"message\").get(\"author\")[0].get(\"affiliation\")) == \"[]\":\n",
    "            filteredSheetForWriting.write(i+len(DOI_FDB), 5, \"No affiliation found\")\n",
    "        else:\n",
    "            filteredSheetForWriting.write(i+len(DOI_FDB), 5, str(pageInfo[i].get(\"message\").get(\"author\")[0].get(\"affiliation\")[0].get(\"name\")))\n",
    "    else:\n",
    "        filteredSheetForWriting.write(i+len(DOI_FDB), 5, \"Author Not Found\")"
   ]
  },
  {
   "cell_type": "code",
   "execution_count": 11,
   "metadata": {},
   "outputs": [],
   "source": [
    "wb.save(\"FilteredDatabase.xls\")"
   ]
  },
  {
   "cell_type": "code",
   "execution_count": null,
   "metadata": {},
   "outputs": [],
   "source": []
  }
 ],
 "metadata": {
  "kernelspec": {
   "display_name": "Python 3",
   "language": "python",
   "name": "python3"
  },
  "language_info": {
   "codemirror_mode": {
    "name": "ipython",
    "version": 3
   },
   "file_extension": ".py",
   "mimetype": "text/x-python",
   "name": "python",
   "nbconvert_exporter": "python",
   "pygments_lexer": "ipython3",
   "version": "3.7.4"
  }
 },
 "nbformat": 4,
 "nbformat_minor": 2
}
