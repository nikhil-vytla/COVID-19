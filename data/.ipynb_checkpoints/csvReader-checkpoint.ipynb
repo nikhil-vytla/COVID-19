{
 "cells": [
  {
   "cell_type": "code",
   "execution_count": 1,
   "metadata": {},
   "outputs": [],
   "source": [
    "import xlrd, xlwt\n",
    "import requests\n",
    "import time\n",
    "from random import randint\n",
    "from time import sleep\n",
    "from xlwt import Workbook"
   ]
  },
  {
   "cell_type": "code",
   "execution_count": 2,
   "metadata": {},
   "outputs": [],
   "source": [
    "excelPath = (\"FullDatabase04222020_XLSX.xlsx\")"
   ]
  },
  {
   "cell_type": "code",
   "execution_count": 3,
   "metadata": {},
   "outputs": [],
   "source": [
    "workbook = xlrd.open_workbook(excelPath) # read workbook\n",
    "sheet = workbook.sheet_by_index(0)"
   ]
  },
  {
   "cell_type": "code",
   "execution_count": 4,
   "metadata": {},
   "outputs": [],
   "source": [
    "firstRow = []\n",
    "for i in range(sheet.ncols):\n",
    "    firstRow.append(sheet.cell_value(0, i))\n",
    "    \n",
    "# Filter DOI to be usable\n",
    "Title, Authors, Journal, DOI = [], [], [], []\n",
    "for i in range(0, sheet.nrows):\n",
    "    if sheet.cell_type(i, 10) != xlrd.XL_CELL_EMPTY:\n",
    "        # filter DOI to be usable\n",
    "        DOIValue = sheet.cell_value(i, 10)\n",
    "        DOIOnly = DOIValue.replace(\"https://doi.org/\", \"\")\n",
    "        DOIOnly = DOIOnly.replace(\"http://dx.doi.org/\", \"\")\n",
    "        DOIOnly = DOIOnly.replace(\"doi:\", \"\")\n",
    "        DOIOnly = DOIOnly.split(' ', 1)[0]\n",
    "        if DOIOnly.startswith(\"DOI\") or DOIOnly.startswith(\"10\"):\n",
    "            DOI.append(DOIOnly)\n",
    "            Title.append(sheet.cell_value(i, 0))\n",
    "            Authors.append(sheet.cell_value(i, 1))\n",
    "            Journal.append(sheet.cell_value(i, 5))   "
   ]
  },
  {
   "cell_type": "code",
   "execution_count": 5,
   "metadata": {},
   "outputs": [],
   "source": [
    "wb = Workbook() # write workbook \n",
    "filteredSheetForWriting = wb.add_sheet(\"Filtered Sheet\")"
   ]
  },
  {
   "cell_type": "code",
   "execution_count": 6,
   "metadata": {},
   "outputs": [],
   "source": [
    "# write filtered data\n",
    "for i in range(len(DOI)):\n",
    "    filteredSheetForWriting.write(i, 0, Title[i])\n",
    "    filteredSheetForWriting.write(i, 1, Authors[i])\n",
    "    filteredSheetForWriting.write(i, 2, Journal[i])\n",
    "    filteredSheetForWriting.write(i, 3, DOI[i])"
   ]
  },
  {
   "cell_type": "code",
   "execution_count": 7,
   "metadata": {},
   "outputs": [],
   "source": [
    "wb.save(\"FilteredDatabase.xls\")"
   ]
  },
  {
   "cell_type": "code",
   "execution_count": 8,
   "metadata": {},
   "outputs": [],
   "source": [
    "# Identify Author's affiliation\n",
    "# https://api.crossref.org/v1/works/\n",
    "filteredWorkbook = xlrd.open_workbook(\"FilteredDatabase.xls\")\n",
    "filteredSheet = filteredWorkbook.sheet_by_index(0)\n",
    "baseURL = \"https://api.crossref.org/v1/works/\""
   ]
  },
  {
   "cell_type": "code",
   "execution_count": 9,
   "metadata": {},
   "outputs": [],
   "source": [
    "URLS = []\n",
    "for i in range(1, filteredSheet.nrows):\n",
    "    URLS.append(baseURL + filteredSheet.cell_value(i,3))"
   ]
  },
  {
   "cell_type": "code",
   "execution_count": 10,
   "metadata": {},
   "outputs": [],
   "source": [
    "# Retrieve JSON Info\n",
    "pageInfo =[]\n",
    "initialTime = time.time()\n",
    "for i in range(len(URLS)):\n",
    "    startTime = time.time()\n",
    "    sleep(randint(0,5))\n",
    "    page = requests.get(URLS[i])\n",
    "    if page.status_code == 200:\n",
    "        pageJson = page.json()\n",
    "        pageInfo.append(pageJson)\n",
    "    else:\n",
    "        pageInfo.append(\"Response not 200\")"
   ]
  },
  {
   "cell_type": "code",
   "execution_count": 11,
   "metadata": {},
   "outputs": [],
   "source": [
    "# indexing off by two for excel\n",
    "for i in range(len(pageInfo)):\n",
    "    if pageInfo[i] == \"Response not 200\":\n",
    "        filteredSheetForWriting.write(i+1, 5, \"Response not 200\")\n",
    "    elif \"author\" in pageInfo[i].get(\"message\"):\n",
    "        if str(pageInfo[i].get(\"message\").get(\"author\")[0].get(\"affiliation\")) == \"[]\":\n",
    "            filteredSheetForWriting.write(i+1, 5, \"No affiliation found\")\n",
    "        else:\n",
    "            filteredSheetForWriting.write(i+1, 5, str(pageInfo[i].get(\"message\").get(\"author\")[0].get(\"affiliation\")[0].get(\"name\")))\n",
    "    else:\n",
    "        filteredSheetForWriting.write(i+1, 5, \"Author Not Found\")"
   ]
  },
  {
   "cell_type": "code",
   "execution_count": 12,
   "metadata": {},
   "outputs": [],
   "source": [
    "wb.save(\"FilteredDatabase.xls\")"
   ]
  },
  {
   "cell_type": "code",
   "execution_count": null,
   "metadata": {},
   "outputs": [],
   "source": []
  }
 ],
 "metadata": {
  "kernelspec": {
   "display_name": "Python 3",
   "language": "python",
   "name": "python3"
  },
  "language_info": {
   "codemirror_mode": {
    "name": "ipython",
    "version": 3
   },
   "file_extension": ".py",
   "mimetype": "text/x-python",
   "name": "python",
   "nbconvert_exporter": "python",
   "pygments_lexer": "ipython3",
   "version": "3.7.4"
  }
 },
 "nbformat": 4,
 "nbformat_minor": 2
}
